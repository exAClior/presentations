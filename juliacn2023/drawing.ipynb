{
 "cells": [
  {
   "cell_type": "code",
   "execution_count": 13,
   "metadata": {},
   "outputs": [
    {
     "name": "stdout",
     "output_type": "stream",
     "text": [
      "\n"
     ]
    }
   ],
   "source": [
    "from qiskit import QuantumCircuit\n",
    "from qiskit.visualization import circuit_drawer\n",
    "from qiskit.quantum_info import random_clifford\n",
    "\n",
    "# Generate a random Clifford operator\n",
    "qc = QuantumCircuit(5)\n",
    "\n",
    "# Add gates to the circuit\n",
    "qc.cx(1,0)\n",
    "qc.h(2)\n",
    "qc.z(3)\n",
    "qc.h(0)\n",
    "qc.h(1)\n",
    "qc.cx(4,2)\n",
    "qc.cx(0,1)\n",
    "qc.x(2)\n",
    "qc.cx(3,4)\n",
    "qc.cx(1,2)\n",
    "qc.z(3)\n",
    "qc.s(0)\n",
    "qc.t(2)\n",
    "qc.cx(4,3)\n",
    "\n",
    "\n",
    "# Convert the quantum circuit to a latex source code\n",
    "latex_src = circuit_drawer(qc, output='latex_source')\n",
    "\n",
    "# Extract the TikZ part from the latex source code\n",
    "tikz_code = latex_src[latex_src.find(\"\\\\begin{tikzpicture}\"):latex_src.find(\"\\\\end{tikzpicture}\")+len(\"\\\\end{tikzpicture}\")]\n",
    "\n",
    "print(tikz_code)"
   ]
  },
  {
   "cell_type": "code",
   "execution_count": 14,
   "metadata": {},
   "outputs": [
    {
     "name": "stdout",
     "output_type": "stream",
     "text": [
      "\\documentclass[border=2px]{standalone}\n",
      "\n",
      "\\usepackage[braket, qm]{qcircuit}\n",
      "\\usepackage{graphicx}\n",
      "\n",
      "\\begin{document}\n",
      "\\scalebox{1.0}{\n",
      "\\Qcircuit @C=1.0em @R=0.2em @!R { \\\\\n",
      "\t \t\\nghost{{q}_{0} :  } & \\lstick{{q}_{0} :  } & \\targ & \\gate{\\mathrm{H}} & \\ctrl{1} & \\gate{\\mathrm{S}} & \\qw & \\qw & \\qw\\\\\n",
      "\t \t\\nghost{{q}_{1} :  } & \\lstick{{q}_{1} :  } & \\ctrl{-1} & \\gate{\\mathrm{H}} & \\targ & \\ctrl{1} & \\qw & \\qw & \\qw\\\\\n",
      "\t \t\\nghost{{q}_{2} :  } & \\lstick{{q}_{2} :  } & \\gate{\\mathrm{H}} & \\targ & \\gate{\\mathrm{X}} & \\targ & \\gate{\\mathrm{T}} & \\qw & \\qw\\\\\n",
      "\t \t\\nghost{{q}_{3} :  } & \\lstick{{q}_{3} :  } & \\gate{\\mathrm{Z}} & \\qw & \\ctrl{1} & \\gate{\\mathrm{Z}} & \\targ & \\qw & \\qw\\\\\n",
      "\t \t\\nghost{{q}_{4} :  } & \\lstick{{q}_{4} :  } & \\qw & \\ctrl{-2} & \\targ & \\qw & \\ctrl{-1} & \\qw & \\qw\\\\\n",
      "\\\\ }}\n",
      "\\end{document}\n"
     ]
    }
   ],
   "source": [
    "print(latex_src)"
   ]
  },
  {
   "cell_type": "code",
   "execution_count": 15,
   "metadata": {},
   "outputs": [
    {
     "name": "stdout",
     "output_type": "stream",
     "text": [
      "Circuit(5 qubits, 0 bits, 14 gates)\n"
     ]
    }
   ],
   "source": [
    "import pyzx as zx\n",
    "# Assuming 'qc' is your QuantumCircuit\n",
    "qasm_str = qc.qasm()\n",
    "\n",
    "# Convert QASM to PyZX circuit\n",
    "pyzx_circuit = zx.Circuit.from_qasm(qasm_str)\n",
    "\n",
    "print(pyzx_circuit)"
   ]
  },
  {
   "cell_type": "code",
   "execution_count": 16,
   "metadata": {},
   "outputs": [],
   "source": [
    "import pyzx as zx\n",
    "zx.settings.quantomatic_location = \"Quantomatic-v0.7.jar\"\n",
    "zx.settings.tikzit_location = \"/usr/bin/tikzit\"\n",
    "g = pyzx_circuit.to_graph()\n",
    "# g = zx.generate.cliffordT(3,10,0.2)\n",
    "# g2 = zx.quantomatic.edit_graph(g) "
   ]
  },
  {
   "cell_type": "code",
   "execution_count": 17,
   "metadata": {},
   "outputs": [
    {
     "name": "stdout",
     "output_type": "stream",
     "text": [
      "Opening Tikzit...\n",
      "Done\n"
     ]
    }
   ],
   "source": [
    "zx.tikz.tikzit(g) "
   ]
  },
  {
   "cell_type": "code",
   "execution_count": null,
   "metadata": {},
   "outputs": [],
   "source": []
  },
  {
   "cell_type": "code",
   "execution_count": null,
   "metadata": {},
   "outputs": [],
   "source": []
  }
 ],
 "metadata": {
  "kernelspec": {
   "display_name": "pyzx",
   "language": "python",
   "name": "python3"
  },
  "language_info": {
   "codemirror_mode": {
    "name": "ipython",
    "version": 3
   },
   "file_extension": ".py",
   "mimetype": "text/x-python",
   "name": "python",
   "nbconvert_exporter": "python",
   "pygments_lexer": "ipython3",
   "version": "3.10.13"
  }
 },
 "nbformat": 4,
 "nbformat_minor": 2
}
