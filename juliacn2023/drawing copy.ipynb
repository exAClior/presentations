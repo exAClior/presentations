{
 "cells": [
  {
   "cell_type": "code",
   "execution_count": 5,
   "metadata": {},
   "outputs": [
    {
     "name": "stdout",
     "output_type": "stream",
     "text": [
      "\n"
     ]
    },
    {
     "name": "stderr",
     "output_type": "stream",
     "text": [
      "/opt/homebrew/Caskroom/miniconda/base/envs/pyzx/lib/python3.10/site-packages/qiskit/visualization/circuit/latex.py:154: FutureWarning: The default matplotlib drawer scheme will be changed to \"iqp\" in a following release. To silence this warning, specify the current default explicitly as style=\"clifford\", or the new default as style=\"iqp\".\n",
      "  self._style, _ = load_style(style)\n"
     ]
    }
   ],
   "source": [
    "from qiskit import QuantumCircuit\n",
    "from qiskit.visualization import circuit_drawer\n",
    "\n",
    "# Generate a random Clifford operator\n",
    "qc = QuantumCircuit(5)\n",
    "\n",
    "# Add gates to the circuit\n",
    "qc.x(4)\n",
    "qc.h(4)\n",
    "qc.z(4)\n",
    "qc.cx(4,3)\n",
    "qc.rz(1.75,4)\n",
    "qc.cx(4,0)\n",
    "qc.rz(0.25,4)\n",
    "qc.cx(4,3)\n",
    "qc.rz(0.25,3)\n",
    "qc.rz(1.75,4)\n",
    "qc.cx(4,0)\n",
    "qc.cx(3,0)\n",
    "qc.rz(0.25,4)\n",
    "\n",
    "# Convert the quantum circuit to a latex source code\n",
    "latex_src = circuit_drawer(qc, output='latex_source')\n",
    "\n",
    "# Extract the TikZ part from the latex source code\n",
    "tikz_code = latex_src[latex_src.find(\"\\\\begin{tikzpicture}\"):latex_src.find(\"\\\\end{tikzpicture}\")+len(\"\\\\end{tikzpicture}\")]\n",
    "\n",
    "print(tikz_code)"
   ]
  },
  {
   "cell_type": "code",
   "execution_count": 6,
   "metadata": {},
   "outputs": [
    {
     "name": "stdout",
     "output_type": "stream",
     "text": [
      "\\documentclass[border=2px]{standalone}\n",
      "\n",
      "\\usepackage[braket, qm]{qcircuit}\n",
      "\\usepackage{graphicx}\n",
      "\n",
      "\\begin{document}\n",
      "\\scalebox{1.0}{\n",
      "\\Qcircuit @C=1.0em @R=0.2em @!R { \\\\\n",
      "\t \t\\nghost{{q}_{0} :  } & \\lstick{{q}_{0} :  } & \\qw & \\qw & \\qw & \\qw & \\qw & \\targ & \\qw & \\qw & \\qw & \\targ & \\targ & \\qw & \\qw\\\\\n",
      "\t \t\\nghost{{q}_{1} :  } & \\lstick{{q}_{1} :  } & \\qw & \\qw & \\qw & \\qw & \\qw & \\qw & \\qw & \\qw & \\qw & \\qw & \\qw & \\qw & \\qw\\\\\n",
      "\t \t\\nghost{{q}_{2} :  } & \\lstick{{q}_{2} :  } & \\qw & \\qw & \\qw & \\qw & \\qw & \\qw & \\qw & \\qw & \\qw & \\qw & \\qw & \\qw & \\qw\\\\\n",
      "\t \t\\nghost{{q}_{3} :  } & \\lstick{{q}_{3} :  } & \\qw & \\qw & \\qw & \\targ & \\qw & \\qw & \\qw & \\targ & \\gate{\\mathrm{R_Z}\\,(\\mathrm{0.25})} & \\qw & \\ctrl{-3} & \\qw & \\qw\\\\\n",
      "\t \t\\nghost{{q}_{4} :  } & \\lstick{{q}_{4} :  } & \\gate{\\mathrm{X}} & \\gate{\\mathrm{H}} & \\gate{\\mathrm{Z}} & \\ctrl{-1} & \\gate{\\mathrm{R_Z}\\,(\\mathrm{1.75})} & \\ctrl{-4} & \\gate{\\mathrm{R_Z}\\,(\\mathrm{0.25})} & \\ctrl{-1} & \\gate{\\mathrm{R_Z}\\,(\\mathrm{1.75})} & \\ctrl{-4} & \\gate{\\mathrm{R_Z}\\,(\\mathrm{0.25})} & \\qw & \\qw\\\\\n",
      "\\\\ }}\n",
      "\\end{document}\n"
     ]
    }
   ],
   "source": [
    "print(latex_src)"
   ]
  },
  {
   "cell_type": "code",
   "execution_count": 7,
   "metadata": {},
   "outputs": [
    {
     "name": "stdout",
     "output_type": "stream",
     "text": [
      "Circuit(5 qubits, 0 bits, 13 gates)\n"
     ]
    }
   ],
   "source": [
    "import pyzx as zx\n",
    "# Assuming 'qc' is your QuantumCircuit\n",
    "qasm_str = qc.qasm()\n",
    "\n",
    "# Convert QASM to PyZX circuit\n",
    "pyzx_circuit = zx.Circuit.from_qasm(qasm_str)\n",
    "\n",
    "print(pyzx_circuit)"
   ]
  },
  {
   "cell_type": "code",
   "execution_count": 8,
   "metadata": {},
   "outputs": [
    {
     "name": "stdout",
     "output_type": "stream",
     "text": [
      "Deprecated. Please use g.to_json() instead (for a given graph g).\n",
      "Opening Quantomatic...\n"
     ]
    },
    {
     "name": "stderr",
     "output_type": "stream",
     "text": [
      "1   HIToolbox                           0x00007ff82501f726 _ZN15MenuBarInstance22EnsureAutoShowObserverEv + 102\n",
      "2   HIToolbox                           0x00007ff82501f2b8 _ZN15MenuBarInstance14EnableAutoShowEv + 52\n",
      "3   HIToolbox                           0x00007ff824fc3908 SetMenuBarObscured + 408\n",
      "4   HIToolbox                           0x00007ff824fc34ca _ZN13HIApplication15HandleActivatedEP14OpaqueEventRefhP15OpaqueWindowPtrh + 164\n",
      "5   HIToolbox                           0x00007ff824fbd996 _ZN13HIApplication13EventObserverEjP14OpaqueEventRefPv + 252\n",
      "6   HIToolbox                           0x00007ff824f85bd2 _NotifyEventLoopObservers + 153\n",
      "7   HIToolbox                           0x00007ff824fbd3e6 AcquireEventFromQueue + 494\n",
      "8   HIToolbox                           0x00007ff824fac3ec ReceiveNextEventCommon + 285\n",
      "9   HIToolbox                           0x00007ff824fac2b3 _BlockUntilNextEventMatchingListInModeWithFilter + 70\n",
      "10  AppKit                              0x00007ff81e1a52f3 _DPSNextEvent + 909\n",
      "11  AppKit                              0x00007ff81e1a4174 -[NSApplication(NSEvent) _nextEventMatchingEventMask:untilDate:inMode:dequeue:] + 1219\n",
      "12  libosxapp.dylib                     0x00000001366f095a -[NSApplicationAWT nextEventMatchingMask:untilDate:inMode:dequeue:] + 122\n",
      "13  AppKit                              0x00007ff81e1967b7 -[NSApplication run] + 586\n",
      "14  libosxapp.dylib                     0x00000001366f0729 +[NSApplicationAWT runAWTLoopWithApp:] + 185\n",
      "15  libawt_lwawt.dylib                  0x00000001390108c5 +[AWTStarter starter:headless:] + 1045\n",
      "16  JavaNativeFoundation                0x00007ffa3528e8ef +[JNFRunLoop _performCopiedBlock:] + 15\n",
      "17  Foundation                          0x00007ff81bed1190 __NSThreadPerformPerform + 177\n",
      "18  CoreFoundation                      0x00007ff81b11bed1 __CFRUNLOOP_IS_CALLING_OUT_TO_A_SOURCE0_PERFORM_FUNCTION__ + 17\n",
      "19  CoreFoundation                      0x00007ff81b11be80 __CFRunLoopDoSource0 + 157\n",
      "20  CoreFoundation                      0x00007ff81b11bc4e __CFRunLoopDoSources0 + 212\n",
      "21  CoreFoundation                      0x00007ff81b11a8a8 __CFRunLoopRun + 943\n",
      "22  CoreFoundation                      0x00007ff81b119e7f CFRunLoopRunSpecific + 560\n",
      "23  libjli.dylib                        0x000000010b500e82 CreateExecutionEnvironment + 402\n",
      "24  libjli.dylib                        0x000000010b4fc848 JLI_Launch + 1496\n",
      "25  java                                0x0000000102f32c0e main + 414\n",
      "26  dyld                                0x00000002031ef310 start + 2432\n"
     ]
    },
    {
     "name": "stdout",
     "output_type": "stream",
     "text": [
      "14:20:33: Working directory: /Users/exaclior_laptop/projects/presentations/juliacn2023/.\n"
     ]
    },
    {
     "name": "stderr",
     "output_type": "stream",
     "text": [
      "Warning: the fonts \"Times\" and \"Times\" are not available for the Java logical font \"Serif\", which may have unexpected appearance or behavior. Re-enable the \"Times\" font to remove this warning.\n"
     ]
    },
    {
     "name": "stdout",
     "output_type": "stream",
     "text": [
      "14:20:35: Opening project: /var/folders/wv/6qbgzv111hz304ppylr_4rgr0000gn/T/tmptvsuhc4y/main.qgraph\n",
      "14:20:35: Selected project file does not exist\n",
      "14:20:35: Loading project from commandline\n",
      "14:20:35: Opening project: /var/folders/wv/6qbgzv111hz304ppylr_4rgr0000gn/T/tmpa5wg4bh7/main.qgraph\n",
      "14:20:36: Successfully loaded project: /var/folders/wv/6qbgzv111hz304ppylr_4rgr0000gn/T/tmpa5wg4bh7/main.qgraph\n",
      "14:20:36: Opening file from commandline\n",
      "loading theory jar:file:/Users/exaclior_laptop/projects/presentations/juliacn2023/Quantomatic-v0.7.jar!/quanto/data/red_green.qtheory\n",
      "Done\n",
      "Deprecated. Please use zx.Graph.from_json() instead.\n"
     ]
    }
   ],
   "source": [
    "import pyzx as zx\n",
    "zx.settings.quantomatic_location = \"Quantomatic-v0.7.jar\"\n",
    "zx.settings.tikzit_location = \"/usr/bin/tikzit\"\n",
    "g = pyzx_circuit.to_graph()\n",
    "# g = zx.generate.cliffordT(3,10,0.2)\n",
    "# g2 = zx.quantomatic.edit_graph(g) "
   ]
  },
  {
   "cell_type": "code",
   "execution_count": 5,
   "metadata": {},
   "outputs": [
    {
     "ename": "Exception",
     "evalue": "Please point towards the Tikzit executable (or some other executable that accepts a text file as an argument) with pyzx.settings.tikzit_location",
     "output_type": "error",
     "traceback": [
      "\u001b[0;31m---------------------------------------------------------------------------\u001b[0m",
      "\u001b[0;31mException\u001b[0m                                 Traceback (most recent call last)",
      "\u001b[1;32m/Users/exaclior_laptop/projects/presentations/juliacn2023/drawing copy.ipynb Cell 5\u001b[0m line \u001b[0;36m1\n\u001b[0;32m----> <a href='vscode-notebook-cell:/Users/exaclior_laptop/projects/presentations/juliacn2023/drawing%20copy.ipynb#W4sZmlsZQ%3D%3D?line=0'>1</a>\u001b[0m zx\u001b[39m.\u001b[39;49mtikz\u001b[39m.\u001b[39;49mtikzit(g) \n",
      "File \u001b[0;32m/opt/homebrew/Caskroom/miniconda/base/envs/pyzx/lib/python3.10/site-packages/pyzx/tikz.py:147\u001b[0m, in \u001b[0;36mtikzit\u001b[0;34m(g, draw_scalar)\u001b[0m\n\u001b[1;32m    141\u001b[0m \u001b[39m\u001b[39m\u001b[39m\"\"\"Opens Tikzit with the graph ``g`` opened as a tikz diagram. \u001b[39;00m\n\u001b[1;32m    142\u001b[0m \u001b[39mFor this to work, ``zx.settings.tikzit_location`` must be pointed towards the Tikzit executable.\u001b[39;00m\n\u001b[1;32m    143\u001b[0m \u001b[39mEven though this function is intended to be used with Tikzit, ``zx.tikz.tikzit_location``\u001b[39;00m\n\u001b[1;32m    144\u001b[0m \u001b[39mcan point towards any executable that takes a tikz file as an input, such as a text processor.\"\"\"\u001b[39;00m\n\u001b[1;32m    146\u001b[0m \u001b[39mif\u001b[39;00m \u001b[39mnot\u001b[39;00m settings\u001b[39m.\u001b[39mtikzit_location \u001b[39mor\u001b[39;00m shutil\u001b[39m.\u001b[39mwhich(settings\u001b[39m.\u001b[39mtikzit_location) \u001b[39mis\u001b[39;00m \u001b[39mNone\u001b[39;00m:\n\u001b[0;32m--> 147\u001b[0m     \u001b[39mraise\u001b[39;00m \u001b[39mException\u001b[39;00m(\u001b[39m\"\u001b[39m\u001b[39mPlease point towards the Tikzit executable\u001b[39m\u001b[39m\"\u001b[39m\n\u001b[1;32m    148\u001b[0m                     \u001b[39m\"\u001b[39m\u001b[39m (or some other executable that accepts a text file as an argument)\u001b[39m\u001b[39m\"\u001b[39m\n\u001b[1;32m    149\u001b[0m                     \u001b[39m\"\u001b[39m\u001b[39m with pyzx.settings.tikzit_location\u001b[39m\u001b[39m\"\u001b[39m)\n\u001b[1;32m    151\u001b[0m \u001b[39mif\u001b[39;00m \u001b[39misinstance\u001b[39m(g, Circuit):\n\u001b[1;32m    152\u001b[0m     g \u001b[39m=\u001b[39m g\u001b[39m.\u001b[39mto_graph(zh\u001b[39m=\u001b[39m\u001b[39mTrue\u001b[39;00m)\n",
      "\u001b[0;31mException\u001b[0m: Please point towards the Tikzit executable (or some other executable that accepts a text file as an argument) with pyzx.settings.tikzit_location"
     ]
    }
   ],
   "source": [
    "zx.tikz.tikzit(g) "
   ]
  },
  {
   "cell_type": "code",
   "execution_count": null,
   "metadata": {},
   "outputs": [],
   "source": []
  }
 ],
 "metadata": {
  "kernelspec": {
   "display_name": "pyzx",
   "language": "python",
   "name": "python3"
  },
  "language_info": {
   "codemirror_mode": {
    "name": "ipython",
    "version": 3
   },
   "file_extension": ".py",
   "mimetype": "text/x-python",
   "name": "python",
   "nbconvert_exporter": "python",
   "pygments_lexer": "ipython3",
   "version": "3.10.13"
  }
 },
 "nbformat": 4,
 "nbformat_minor": 2
}
